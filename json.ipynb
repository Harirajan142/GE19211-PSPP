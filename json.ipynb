{
 "cells": [
  {
   "cell_type": "code",
   "execution_count": 7,
   "id": "58d85000",
   "metadata": {},
   "outputs": [],
   "source": [
    "f=open(\"D:/textfile1.txt\",'w')\n",
    "f.write(\"first line\\n\")\n",
    "f.write(\"second line\\n\")\n",
    "f.write(\"third line\\n\")\n",
    "f.close()"
   ]
  },
  {
   "cell_type": "code",
   "execution_count": 8,
   "id": "7bedc8d4",
   "metadata": {},
   "outputs": [
    {
     "name": "stdout",
     "output_type": "stream",
     "text": [
      "first line\n",
      "\n",
      "second line\n",
      "\n",
      "third line\n",
      "\n"
     ]
    }
   ],
   "source": [
    "k=open(\"D:/textfile1.txt\",'r')\n",
    "print(k.readline())\n",
    "print(k.readline())\n",
    "print(k.readline())\n",
    "k.close()"
   ]
  },
  {
   "cell_type": "code",
   "execution_count": 9,
   "id": "56f04ddf",
   "metadata": {},
   "outputs": [],
   "source": [
    "m=open(\"D:/textfile1.txt\",'a')\n",
    "m.write(\"fourth line\\n\")\n",
    "m.write(\"fifth line\\n\")\n",
    "m.write(\"sixth line\\n\")\n",
    "m.close()"
   ]
  },
  {
   "cell_type": "code",
   "execution_count": 10,
   "id": "5a5b8d3c",
   "metadata": {},
   "outputs": [
    {
     "name": "stdout",
     "output_type": "stream",
     "text": [
      "first line\n",
      "\n",
      "second line\n",
      "\n",
      "third line\n",
      "\n",
      "fourth line\n",
      "\n",
      "fifth line\n",
      "\n",
      "sixth line\n",
      "\n"
     ]
    }
   ],
   "source": [
    "p=open(\"D:/textfile1.txt\",'r')\n",
    "print(p.readline())\n",
    "print(p.readline())\n",
    "print(p.readline())\n",
    "print(p.readline())\n",
    "print(p.readline())\n",
    "print(p.readline())\n",
    "p.close()"
   ]
  },
  {
   "cell_type": "code",
   "execution_count": 11,
   "id": "19c7debc",
   "metadata": {},
   "outputs": [
    {
     "name": "stdout",
     "output_type": "stream",
     "text": [
      "['first line\\n', 'second line\\n', 'third line\\n', 'fourth line\\n', 'fifth line\\n', 'sixth line\\n']\n"
     ]
    }
   ],
   "source": [
    "with open(\"D:/textfile1.txt\",'r')as file:\n",
    "    lines=file.readlines()\n",
    "    print(lines)"
   ]
  },
  {
   "cell_type": "code",
   "execution_count": 12,
   "id": "74217107",
   "metadata": {},
   "outputs": [
    {
     "name": "stdout",
     "output_type": "stream",
     "text": [
      "45\n",
      "\"{\\\"name\\\":\\\"dhoni\\\",\\\"age\\\":45,\\\"team\\\":\\\"csk\\\"}\"\n"
     ]
    }
   ],
   "source": [
    "import json\n",
    "x='{\"name\":\"dhoni\",\"age\":45,\"team\":\"csk\"}'\n",
    "y=json.loads(x)\n",
    "print(y[\"age\"])\n",
    "x\n",
    "{\n",
    "  \"name\":\"dohni\",\n",
    "  \"age\":45,\n",
    "  \"team\":\"csk\"\n",
    "}\n",
    "y=json.dumps(x)\n",
    "print(y)"
   ]
  }
 ],
 "metadata": {
  "kernelspec": {
   "display_name": "Python 3 (ipykernel)",
   "language": "python",
   "name": "python3"
  },
  "language_info": {
   "codemirror_mode": {
    "name": "ipython",
    "version": 3
   },
   "file_extension": ".py",
   "mimetype": "text/x-python",
   "name": "python",
   "nbconvert_exporter": "python",
   "pygments_lexer": "ipython3",
   "version": "3.9.12"
  }
 },
 "nbformat": 4,
 "nbformat_minor": 5
}
