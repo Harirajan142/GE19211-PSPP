{
 "cells": [
  {
   "cell_type": "code",
   "execution_count": 23,
   "id": "ad8ca235",
   "metadata": {},
   "outputs": [],
   "source": [
    "import pandas as pd\n",
    "import numpy as np"
   ]
  },
  {
   "cell_type": "code",
   "execution_count": 2,
   "id": "675ebd3c",
   "metadata": {},
   "outputs": [
    {
     "name": "stdout",
     "output_type": "stream",
     "text": [
      "Empty DataFrame\n",
      "Columns: []\n",
      "Index: []\n"
     ]
    }
   ],
   "source": [
    "df=pd.DataFrame()\n",
    "print(df)"
   ]
  },
  {
   "cell_type": "code",
   "execution_count": 9,
   "id": "ed4becb7",
   "metadata": {},
   "outputs": [
    {
     "name": "stdout",
     "output_type": "stream",
     "text": [
      "        Emp   ID\n",
      "0    Vishwa  119\n",
      "1  Ramanesh   80\n",
      "2      Bala  508\n",
      "3      Siva  118\n",
      "0      Vishwa\n",
      "1    Ramanesh\n",
      "2        Bala\n",
      "3        Siva\n",
      "Name: Emp, dtype: object\n"
     ]
    }
   ],
   "source": [
    "emp=pd.Series(['Vishwa','Ramanesh','Bala','Siva'])\n",
    "id=pd.Series([119,80,508,118])\n",
    "frame={'Emp':emp,'ID':id}\n",
    "result=pd.DataFrame(frame)\n",
    "print(result)\n",
    "print(result['Emp'])"
   ]
  },
  {
   "cell_type": "code",
   "execution_count": 10,
   "id": "6e8aec17",
   "metadata": {},
   "outputs": [
    {
     "name": "stdout",
     "output_type": "stream",
     "text": [
      "        Emp   ID  Age\n",
      "0    Vishwa  119   19\n",
      "1  Ramanesh   80   20\n",
      "2      Bala  508   22\n",
      "3      Siva  118   19\n"
     ]
    }
   ],
   "source": [
    "result['Age']=pd.Series([19,20,22,19])\n",
    "print(result)"
   ]
  },
  {
   "cell_type": "code",
   "execution_count": 11,
   "id": "cbe92875",
   "metadata": {},
   "outputs": [
    {
     "name": "stdout",
     "output_type": "stream",
     "text": [
      "        Emp   ID\n",
      "0    Vishwa  119\n",
      "1  Ramanesh   80\n",
      "2      Bala  508\n",
      "3      Siva  118\n"
     ]
    }
   ],
   "source": [
    "del result['Age']\n",
    "print(result)"
   ]
  },
  {
   "cell_type": "code",
   "execution_count": 13,
   "id": "cca9d0a2",
   "metadata": {},
   "outputs": [
    {
     "name": "stdout",
     "output_type": "stream",
     "text": [
      "Emp    Ramanesh\n",
      "ID           80\n",
      "Name: 1, dtype: object\n"
     ]
    }
   ],
   "source": [
    "print(result.loc[1])"
   ]
  },
  {
   "cell_type": "code",
   "execution_count": 14,
   "id": "d924c608",
   "metadata": {},
   "outputs": [
    {
     "name": "stdout",
     "output_type": "stream",
     "text": [
      "        Emp   ID\n",
      "1  Ramanesh   80\n",
      "2      Bala  508\n"
     ]
    }
   ],
   "source": [
    "print(result[1:3])"
   ]
  },
  {
   "cell_type": "code",
   "execution_count": 19,
   "id": "05e4d8d6",
   "metadata": {},
   "outputs": [
    {
     "name": "stdout",
     "output_type": "stream",
     "text": [
      "        Emp   ID\n",
      "0    Vishwa  119\n",
      "1  Ramanesh   80\n",
      "2      Bala  508\n",
      "3      Siva  118\n",
      "0      Date  123\n",
      "1      Mark  143\n"
     ]
    },
    {
     "name": "stderr",
     "output_type": "stream",
     "text": [
      "C:\\Users\\TCS\\AppData\\Local\\Temp\\ipykernel_10696\\1079628763.py:2: FutureWarning: The frame.append method is deprecated and will be removed from pandas in a future version. Use pandas.concat instead.\n",
      "  print(result.append(d2))\n"
     ]
    }
   ],
   "source": [
    "d2=pd.DataFrame([['Date',123],['Mark',143]],columns=['Emp','ID'])\n",
    "print(result.append(d2))"
   ]
  },
  {
   "cell_type": "code",
   "execution_count": 22,
   "id": "8e568948",
   "metadata": {},
   "outputs": [
    {
     "name": "stdout",
     "output_type": "stream",
     "text": [
      "      Emp   ID\n",
      "0  Vishwa  119\n",
      "2    Bala  508\n",
      "3    Siva  118\n"
     ]
    }
   ],
   "source": [
    "print(result.drop(1))"
   ]
  },
  {
   "cell_type": "code",
   "execution_count": 25,
   "id": "d55e1cb3",
   "metadata": {},
   "outputs": [
    {
     "name": "stdout",
     "output_type": "stream",
     "text": [
      "0    P\n",
      "1    a\n",
      "2    n\n",
      "3    d\n",
      "4    a\n",
      "5    s\n",
      "dtype: object\n"
     ]
    }
   ],
   "source": [
    "arr=np.array(['P','a','n','d','a','s'])\n",
    "a=pd.Series(arr)\n",
    "print(a)"
   ]
  },
  {
   "cell_type": "code",
   "execution_count": 30,
   "id": "bff0dbf2",
   "metadata": {},
   "outputs": [
    {
     "name": "stdout",
     "output_type": "stream",
     "text": [
      "x    0.0\n",
      "y    1.0\n",
      "z    2.0\n",
      "dtype: float64\n"
     ]
    }
   ],
   "source": [
    "arr={'x':0.,'y':1.,'z':2.}\n",
    "b=pd.Series(arr)\n",
    "print(b)"
   ]
  },
  {
   "cell_type": "code",
   "execution_count": 33,
   "id": "7ae5a921",
   "metadata": {},
   "outputs": [
    {
     "name": "stdout",
     "output_type": "stream",
     "text": [
      "0    4\n",
      "1    4\n",
      "2    4\n",
      "dtype: int64\n"
     ]
    }
   ],
   "source": [
    "x=pd.Series(4,index=[0,1,2])\n",
    "print(x)"
   ]
  },
  {
   "cell_type": "code",
   "execution_count": 34,
   "id": "3743f639",
   "metadata": {},
   "outputs": [
    {
     "name": "stdout",
     "output_type": "stream",
     "text": [
      "a    1\n",
      "b    2\n",
      "c    3\n",
      "dtype: int64\n"
     ]
    }
   ],
   "source": [
    "x=pd.Series([1,2,3],index=['a','b','c'])\n",
    "print(x)"
   ]
  },
  {
   "cell_type": "code",
   "execution_count": 35,
   "id": "0c44d3d2",
   "metadata": {},
   "outputs": [],
   "source": [
    "a=pd.Series(data=[1,2,3,4])"
   ]
  },
  {
   "cell_type": "code",
   "execution_count": 36,
   "id": "533a20af",
   "metadata": {},
   "outputs": [
    {
     "name": "stdout",
     "output_type": "stream",
     "text": [
      "0    1\n",
      "1    2\n",
      "2    3\n",
      "3    4\n",
      "dtype: int64\n"
     ]
    }
   ],
   "source": [
    "print(a)"
   ]
  },
  {
   "cell_type": "code",
   "execution_count": 37,
   "id": "d465ab48",
   "metadata": {},
   "outputs": [
    {
     "name": "stdout",
     "output_type": "stream",
     "text": [
      "RangeIndex(start=0, stop=4, step=1)\n"
     ]
    }
   ],
   "source": [
    "print(a.index)"
   ]
  },
  {
   "cell_type": "code",
   "execution_count": 38,
   "id": "235058d7",
   "metadata": {},
   "outputs": [
    {
     "name": "stdout",
     "output_type": "stream",
     "text": [
      "[1 2 3 4]\n"
     ]
    }
   ],
   "source": [
    "print(a.values)"
   ]
  },
  {
   "cell_type": "code",
   "execution_count": 39,
   "id": "c3b96dd3",
   "metadata": {},
   "outputs": [
    {
     "name": "stdout",
     "output_type": "stream",
     "text": [
      "(4,)\n"
     ]
    }
   ],
   "source": [
    "print(a.shape)"
   ]
  },
  {
   "cell_type": "code",
   "execution_count": 40,
   "id": "71131805",
   "metadata": {},
   "outputs": [
    {
     "name": "stdout",
     "output_type": "stream",
     "text": [
      "1\n"
     ]
    }
   ],
   "source": [
    "print(a.ndim)"
   ]
  },
  {
   "cell_type": "code",
   "execution_count": 41,
   "id": "fb808c8e",
   "metadata": {},
   "outputs": [
    {
     "name": "stdout",
     "output_type": "stream",
     "text": [
      "4\n"
     ]
    }
   ],
   "source": [
    "print(a.size)"
   ]
  },
  {
   "cell_type": "code",
   "execution_count": null,
   "id": "dcaedf95",
   "metadata": {},
   "outputs": [],
   "source": []
  }
 ],
 "metadata": {
  "kernelspec": {
   "display_name": "Python 3 (ipykernel)",
   "language": "python",
   "name": "python3"
  },
  "language_info": {
   "codemirror_mode": {
    "name": "ipython",
    "version": 3
   },
   "file_extension": ".py",
   "mimetype": "text/x-python",
   "name": "python",
   "nbconvert_exporter": "python",
   "pygments_lexer": "ipython3",
   "version": "3.9.12"
  }
 },
 "nbformat": 4,
 "nbformat_minor": 5
}
